{
 "cells": [
  {
   "cell_type": "code",
   "execution_count": 370,
   "metadata": {
    "collapsed": true
   },
   "outputs": [],
   "source": [
    "import numpy as np\n",
    "import pandas as pd\n",
    "import matplotlib.pyplot as plt\n",
    "%matplotlib inline\n",
    "import seaborn as sns\n",
    "from sklearn.model_selection import train_test_split\n",
    "from sklearn.linear_model import LogisticRegression\n",
    "from sklearn.metrics import confusion_matrix, classification_report\n",
    "import re"
   ]
  },
  {
   "cell_type": "code",
   "execution_count": 371,
   "metadata": {
    "collapsed": true
   },
   "outputs": [],
   "source": [
    "df=pd.read_csv('E:/jupyternotebook/h1b/h-1b-visa/h1b_kaggle.csv')"
   ]
  },
  {
   "cell_type": "markdown",
   "metadata": {},
   "source": [
    "DATASET COLUMNS DESCRIPTION:\n",
    "\n",
    "<B>CASE_ID</B> - A unique case ID for every applicant.<BR>\n",
    "<B>CASE_STATUS</B> – The target variable consists of 4 different classes or values. Status is associated with the last significant event.<BR>\n",
    "<B>EMPLOYER_NAME</B> – Name of the employer submitting the application.<BR>\n",
    "<B>SOC_NAME</B> – Occupational name associated with an occupational code<BR>\n",
    "<B>JOB_Title</B> – Title of the Job<BR>\n",
    "<B>FULL_TIME_POSITION</B> – Whether the position is full time or not<BR>\n",
    "<B>PREVAILING_WAGE</B> - The prevailing wage for a job position is defined as the average wage paid to similarly employed workers in the requested occupation in the area of intended employment<BR>\n",
    "<B>YEAR</B> – Year in which h1b petition was filed<BR>\n",
    "<B>WORKSITE</B> - City and State information of the foreign worker’s intended area of employment<BR>\n",
    "<B>Lon</B> – Longitude of the worksite<BR>\n",
    "<B>Lat</B> – Latitude of the worksite<BR>"
   ]
  },
  {
   "cell_type": "code",
   "execution_count": 372,
   "metadata": {},
   "outputs": [
    {
     "name": "stdout",
     "output_type": "stream",
     "text": [
      "<class 'pandas.core.frame.DataFrame'>\n",
      "RangeIndex: 1048575 entries, 0 to 1048574\n",
      "Data columns (total 11 columns):\n",
      "CASE_ID               1048575 non-null int64\n",
      "CASE_STATUS           1048575 non-null object\n",
      "EMPLOYER_NAME         1048556 non-null object\n",
      "SOC_NAME              1048564 non-null object\n",
      "JOB_TITLE             1048567 non-null object\n",
      "FULL_TIME_POSITION    1048574 non-null object\n",
      "PREVAILING_WAGE       1048571 non-null float64\n",
      "YEAR                  1048575 non-null int64\n",
      "WORKSITE              1048575 non-null object\n",
      "lon                   1019007 non-null float64\n",
      "lat                   1019007 non-null float64\n",
      "dtypes: float64(3), int64(2), object(6)\n",
      "memory usage: 88.0+ MB\n"
     ]
    },
    {
     "data": {
      "text/html": [
       "<div>\n",
       "<style>\n",
       "    .dataframe thead tr:only-child th {\n",
       "        text-align: right;\n",
       "    }\n",
       "\n",
       "    .dataframe thead th {\n",
       "        text-align: left;\n",
       "    }\n",
       "\n",
       "    .dataframe tbody tr th {\n",
       "        vertical-align: top;\n",
       "    }\n",
       "</style>\n",
       "<table border=\"1\" class=\"dataframe\">\n",
       "  <thead>\n",
       "    <tr style=\"text-align: right;\">\n",
       "      <th></th>\n",
       "      <th>CASE_ID</th>\n",
       "      <th>PREVAILING_WAGE</th>\n",
       "      <th>YEAR</th>\n",
       "      <th>lon</th>\n",
       "      <th>lat</th>\n",
       "    </tr>\n",
       "  </thead>\n",
       "  <tbody>\n",
       "    <tr>\n",
       "      <th>count</th>\n",
       "      <td>1.048575e+06</td>\n",
       "      <td>1.048571e+06</td>\n",
       "      <td>1.048575e+06</td>\n",
       "      <td>1.019007e+06</td>\n",
       "      <td>1.019007e+06</td>\n",
       "    </tr>\n",
       "    <tr>\n",
       "      <th>mean</th>\n",
       "      <td>5.242880e+05</td>\n",
       "      <td>8.942724e+04</td>\n",
       "      <td>2.015618e+03</td>\n",
       "      <td>-9.224186e+01</td>\n",
       "      <td>3.816965e+01</td>\n",
       "    </tr>\n",
       "    <tr>\n",
       "      <th>std</th>\n",
       "      <td>3.026977e+05</td>\n",
       "      <td>1.643214e+06</td>\n",
       "      <td>4.859268e-01</td>\n",
       "      <td>1.936639e+01</td>\n",
       "      <td>4.606127e+00</td>\n",
       "    </tr>\n",
       "    <tr>\n",
       "      <th>min</th>\n",
       "      <td>1.000000e+00</td>\n",
       "      <td>0.000000e+00</td>\n",
       "      <td>2.015000e+03</td>\n",
       "      <td>-1.578583e+02</td>\n",
       "      <td>1.343719e+01</td>\n",
       "    </tr>\n",
       "    <tr>\n",
       "      <th>25%</th>\n",
       "      <td>2.621445e+05</td>\n",
       "      <td>5.636800e+04</td>\n",
       "      <td>2.015000e+03</td>\n",
       "      <td>-1.118910e+02</td>\n",
       "      <td>3.415175e+01</td>\n",
       "    </tr>\n",
       "    <tr>\n",
       "      <th>50%</th>\n",
       "      <td>5.242880e+05</td>\n",
       "      <td>6.651800e+04</td>\n",
       "      <td>2.016000e+03</td>\n",
       "      <td>-8.648955e+01</td>\n",
       "      <td>3.908400e+01</td>\n",
       "    </tr>\n",
       "    <tr>\n",
       "      <th>75%</th>\n",
       "      <td>7.864315e+05</td>\n",
       "      <td>8.247200e+04</td>\n",
       "      <td>2.016000e+03</td>\n",
       "      <td>-7.559826e+01</td>\n",
       "      <td>4.088374e+01</td>\n",
       "    </tr>\n",
       "    <tr>\n",
       "      <th>max</th>\n",
       "      <td>1.048575e+06</td>\n",
       "      <td>3.291392e+08</td>\n",
       "      <td>2.016000e+03</td>\n",
       "      <td>1.457298e+02</td>\n",
       "      <td>6.483778e+01</td>\n",
       "    </tr>\n",
       "  </tbody>\n",
       "</table>\n",
       "</div>"
      ],
      "text/plain": [
       "            CASE_ID  PREVAILING_WAGE          YEAR           lon           lat\n",
       "count  1.048575e+06     1.048571e+06  1.048575e+06  1.019007e+06  1.019007e+06\n",
       "mean   5.242880e+05     8.942724e+04  2.015618e+03 -9.224186e+01  3.816965e+01\n",
       "std    3.026977e+05     1.643214e+06  4.859268e-01  1.936639e+01  4.606127e+00\n",
       "min    1.000000e+00     0.000000e+00  2.015000e+03 -1.578583e+02  1.343719e+01\n",
       "25%    2.621445e+05     5.636800e+04  2.015000e+03 -1.118910e+02  3.415175e+01\n",
       "50%    5.242880e+05     6.651800e+04  2.016000e+03 -8.648955e+01  3.908400e+01\n",
       "75%    7.864315e+05     8.247200e+04  2.016000e+03 -7.559826e+01  4.088374e+01\n",
       "max    1.048575e+06     3.291392e+08  2.016000e+03  1.457298e+02  6.483778e+01"
      ]
     },
     "execution_count": 372,
     "metadata": {},
     "output_type": "execute_result"
    }
   ],
   "source": [
    "df.info()\n",
    "\n",
    "df.describe()"
   ]
  },
  {
   "cell_type": "code",
   "execution_count": 373,
   "metadata": {},
   "outputs": [
    {
     "data": {
      "text/html": [
       "<div>\n",
       "<style>\n",
       "    .dataframe thead tr:only-child th {\n",
       "        text-align: right;\n",
       "    }\n",
       "\n",
       "    .dataframe thead th {\n",
       "        text-align: left;\n",
       "    }\n",
       "\n",
       "    .dataframe tbody tr th {\n",
       "        vertical-align: top;\n",
       "    }\n",
       "</style>\n",
       "<table border=\"1\" class=\"dataframe\">\n",
       "  <thead>\n",
       "    <tr style=\"text-align: right;\">\n",
       "      <th></th>\n",
       "      <th>CASE_ID</th>\n",
       "      <th>CASE_STATUS</th>\n",
       "      <th>EMPLOYER_NAME</th>\n",
       "      <th>SOC_NAME</th>\n",
       "      <th>JOB_TITLE</th>\n",
       "      <th>FULL_TIME_POSITION</th>\n",
       "      <th>PREVAILING_WAGE</th>\n",
       "      <th>YEAR</th>\n",
       "      <th>WORKSITE</th>\n",
       "      <th>lon</th>\n",
       "      <th>lat</th>\n",
       "    </tr>\n",
       "  </thead>\n",
       "  <tbody>\n",
       "    <tr>\n",
       "      <th>0</th>\n",
       "      <td>1</td>\n",
       "      <td>CERTIFIED-WITHDRAWN</td>\n",
       "      <td>UNIVERSITY OF MICHIGAN</td>\n",
       "      <td>BIOCHEMISTS AND BIOPHYSICISTS</td>\n",
       "      <td>POSTDOCTORAL RESEARCH FELLOW</td>\n",
       "      <td>N</td>\n",
       "      <td>36067.0</td>\n",
       "      <td>2016</td>\n",
       "      <td>ANN ARBOR, MICHIGAN</td>\n",
       "      <td>-83.743038</td>\n",
       "      <td>42.280826</td>\n",
       "    </tr>\n",
       "    <tr>\n",
       "      <th>1</th>\n",
       "      <td>2</td>\n",
       "      <td>CERTIFIED-WITHDRAWN</td>\n",
       "      <td>GOODMAN NETWORKS, INC.</td>\n",
       "      <td>CHIEF EXECUTIVES</td>\n",
       "      <td>CHIEF OPERATING OFFICER</td>\n",
       "      <td>Y</td>\n",
       "      <td>242674.0</td>\n",
       "      <td>2016</td>\n",
       "      <td>PLANO, TEXAS</td>\n",
       "      <td>-96.698886</td>\n",
       "      <td>33.019843</td>\n",
       "    </tr>\n",
       "    <tr>\n",
       "      <th>2</th>\n",
       "      <td>3</td>\n",
       "      <td>CERTIFIED-WITHDRAWN</td>\n",
       "      <td>PORTS AMERICA GROUP, INC.</td>\n",
       "      <td>CHIEF EXECUTIVES</td>\n",
       "      <td>CHIEF PROCESS OFFICER</td>\n",
       "      <td>Y</td>\n",
       "      <td>193066.0</td>\n",
       "      <td>2016</td>\n",
       "      <td>JERSEY CITY, NEW JERSEY</td>\n",
       "      <td>-74.077642</td>\n",
       "      <td>40.728158</td>\n",
       "    </tr>\n",
       "    <tr>\n",
       "      <th>3</th>\n",
       "      <td>4</td>\n",
       "      <td>CERTIFIED-WITHDRAWN</td>\n",
       "      <td>GATES CORPORATION, A WHOLLY-OWNED SUBSIDIARY O...</td>\n",
       "      <td>CHIEF EXECUTIVES</td>\n",
       "      <td>REGIONAL PRESIDEN, AMERICAS</td>\n",
       "      <td>Y</td>\n",
       "      <td>220314.0</td>\n",
       "      <td>2016</td>\n",
       "      <td>DENVER, COLORADO</td>\n",
       "      <td>-104.990251</td>\n",
       "      <td>39.739236</td>\n",
       "    </tr>\n",
       "    <tr>\n",
       "      <th>4</th>\n",
       "      <td>5</td>\n",
       "      <td>WITHDRAWN</td>\n",
       "      <td>PEABODY INVESTMENTS CORP.</td>\n",
       "      <td>CHIEF EXECUTIVES</td>\n",
       "      <td>PRESIDENT MONGOLIA AND INDIA</td>\n",
       "      <td>Y</td>\n",
       "      <td>157518.4</td>\n",
       "      <td>2016</td>\n",
       "      <td>ST. LOUIS, MISSOURI</td>\n",
       "      <td>-90.199404</td>\n",
       "      <td>38.627003</td>\n",
       "    </tr>\n",
       "  </tbody>\n",
       "</table>\n",
       "</div>"
      ],
      "text/plain": [
       "   CASE_ID          CASE_STATUS  \\\n",
       "0        1  CERTIFIED-WITHDRAWN   \n",
       "1        2  CERTIFIED-WITHDRAWN   \n",
       "2        3  CERTIFIED-WITHDRAWN   \n",
       "3        4  CERTIFIED-WITHDRAWN   \n",
       "4        5            WITHDRAWN   \n",
       "\n",
       "                                       EMPLOYER_NAME  \\\n",
       "0                             UNIVERSITY OF MICHIGAN   \n",
       "1                             GOODMAN NETWORKS, INC.   \n",
       "2                          PORTS AMERICA GROUP, INC.   \n",
       "3  GATES CORPORATION, A WHOLLY-OWNED SUBSIDIARY O...   \n",
       "4                          PEABODY INVESTMENTS CORP.   \n",
       "\n",
       "                        SOC_NAME                     JOB_TITLE  \\\n",
       "0  BIOCHEMISTS AND BIOPHYSICISTS  POSTDOCTORAL RESEARCH FELLOW   \n",
       "1               CHIEF EXECUTIVES       CHIEF OPERATING OFFICER   \n",
       "2               CHIEF EXECUTIVES         CHIEF PROCESS OFFICER   \n",
       "3               CHIEF EXECUTIVES   REGIONAL PRESIDEN, AMERICAS   \n",
       "4               CHIEF EXECUTIVES  PRESIDENT MONGOLIA AND INDIA   \n",
       "\n",
       "  FULL_TIME_POSITION  PREVAILING_WAGE  YEAR                 WORKSITE  \\\n",
       "0                  N          36067.0  2016      ANN ARBOR, MICHIGAN   \n",
       "1                  Y         242674.0  2016             PLANO, TEXAS   \n",
       "2                  Y         193066.0  2016  JERSEY CITY, NEW JERSEY   \n",
       "3                  Y         220314.0  2016         DENVER, COLORADO   \n",
       "4                  Y         157518.4  2016      ST. LOUIS, MISSOURI   \n",
       "\n",
       "          lon        lat  \n",
       "0  -83.743038  42.280826  \n",
       "1  -96.698886  33.019843  \n",
       "2  -74.077642  40.728158  \n",
       "3 -104.990251  39.739236  \n",
       "4  -90.199404  38.627003  "
      ]
     },
     "execution_count": 373,
     "metadata": {},
     "output_type": "execute_result"
    }
   ],
   "source": [
    "df.head()"
   ]
  },
  {
   "cell_type": "markdown",
   "metadata": {},
   "source": [
    "4 DIFFERENT CASE_STATUS"
   ]
  },
  {
   "cell_type": "code",
   "execution_count": 374,
   "metadata": {},
   "outputs": [
    {
     "data": {
      "text/plain": [
       "CERTIFIED              914251\n",
       "CERTIFIED-WITHDRAWN     83160\n",
       "WITHDRAWN               35494\n",
       "DENIED                  15670\n",
       "Name: CASE_STATUS, dtype: int64"
      ]
     },
     "execution_count": 374,
     "metadata": {},
     "output_type": "execute_result"
    }
   ],
   "source": [
    "df['CASE_STATUS'].value_counts()"
   ]
  },
  {
   "cell_type": "code",
   "execution_count": null,
   "metadata": {
    "collapsed": true
   },
   "outputs": [],
   "source": []
  },
  {
   "cell_type": "markdown",
   "metadata": {},
   "source": [
    "For binary class classification, we would classify CASE_STATUS as either Certified or Denied."
   ]
  },
  {
   "cell_type": "code",
   "execution_count": 375,
   "metadata": {
    "collapsed": true
   },
   "outputs": [],
   "source": [
    "# Removing withdrawn status\n",
    "df=df.drop(df[df['CASE_STATUS']=='CERTIFIED-WITHDRAWN'].index)\n"
   ]
  },
  {
   "cell_type": "code",
   "execution_count": 376,
   "metadata": {
    "collapsed": true
   },
   "outputs": [],
   "source": [
    "df=df.drop(df[df['CASE_STATUS']=='WITHDRAWN'].index)"
   ]
  },
  {
   "cell_type": "code",
   "execution_count": 377,
   "metadata": {},
   "outputs": [
    {
     "data": {
      "text/plain": [
       "CERTIFIED    914251\n",
       "DENIED        15670\n",
       "Name: CASE_STATUS, dtype: int64"
      ]
     },
     "execution_count": 377,
     "metadata": {},
     "output_type": "execute_result"
    }
   ],
   "source": [
    "df['CASE_STATUS'].value_counts()"
   ]
  },
  {
   "cell_type": "code",
   "execution_count": 378,
   "metadata": {},
   "outputs": [
    {
     "name": "stdout",
     "output_type": "stream",
     "text": [
      "0.0168508937856\n"
     ]
    }
   ],
   "source": [
    "print(15670.00/(914251.00+15670.00))"
   ]
  },
  {
   "cell_type": "code",
   "execution_count": 379,
   "metadata": {},
   "outputs": [
    {
     "name": "stdout",
     "output_type": "stream",
     "text": [
      "CASE_ID                   0\n",
      "CASE_STATUS               0\n",
      "EMPLOYER_NAME            12\n",
      "SOC_NAME                  6\n",
      "JOB_TITLE                 3\n",
      "FULL_TIME_POSITION        1\n",
      "PREVAILING_WAGE           3\n",
      "YEAR                      0\n",
      "WORKSITE                  0\n",
      "lon                   26082\n",
      "lat                   26082\n",
      "dtype: int64\n"
     ]
    }
   ],
   "source": [
    "##check count of NAN\n",
    "count_nan = len(df) - df.count()\n",
    "print(count_nan)"
   ]
  },
  {
   "cell_type": "code",
   "execution_count": 380,
   "metadata": {},
   "outputs": [
    {
     "data": {
      "text/plain": [
       "'INFOSYS LIMITED'"
      ]
     },
     "execution_count": 380,
     "metadata": {},
     "output_type": "execute_result"
    }
   ],
   "source": [
    "df['EMPLOYER_NAME'].mode()[0]"
   ]
  },
  {
   "cell_type": "code",
   "execution_count": 381,
   "metadata": {
    "collapsed": true
   },
   "outputs": [],
   "source": [
    "## Filling na in employer name with mode\n",
    "df['EMPLOYER_NAME'] = df['EMPLOYER_NAME'].fillna(df['EMPLOYER_NAME'].mode()[0])"
   ]
  },
  {
   "cell_type": "code",
   "execution_count": 382,
   "metadata": {
    "collapsed": true
   },
   "outputs": [],
   "source": [
    "## Filling na in JOB_TITLE and FULL_TIME_POSITION with mode\n",
    "df['SOC_NAME'] = df['SOC_NAME'].fillna(df['SOC_NAME'].mode()[0])\n",
    "df['JOB_TITLE'] = df['JOB_TITLE'].fillna(df['JOB_TITLE'].mode()[0])\n",
    "df['FULL_TIME_POSITION'] = df['FULL_TIME_POSITION'].fillna(df['FULL_TIME_POSITION'].mode()[0])\n",
    "df['PREVAILING_WAGE'] = df['PREVAILING_WAGE'].fillna(df['PREVAILING_WAGE'].mode()[0])"
   ]
  },
  {
   "cell_type": "code",
   "execution_count": 383,
   "metadata": {
    "collapsed": true
   },
   "outputs": [],
   "source": [
    "# Dropping lat and lon columns\n",
    "df = df.drop('lat', axis = 1)\n",
    "df = df.drop('lon', axis = 1)"
   ]
  },
  {
   "cell_type": "code",
   "execution_count": 384,
   "metadata": {},
   "outputs": [
    {
     "name": "stdout",
     "output_type": "stream",
     "text": [
      "CASE_ID               0\n",
      "CASE_STATUS           0\n",
      "EMPLOYER_NAME         0\n",
      "SOC_NAME              0\n",
      "JOB_TITLE             0\n",
      "FULL_TIME_POSITION    0\n",
      "PREVAILING_WAGE       0\n",
      "YEAR                  0\n",
      "WORKSITE              0\n",
      "dtype: int64\n"
     ]
    }
   ],
   "source": [
    "##check count of NAN\n",
    "count_nan = len(df) - df.count()\n",
    "print(count_nan)"
   ]
  },
  {
   "cell_type": "code",
   "execution_count": 385,
   "metadata": {
    "collapsed": true
   },
   "outputs": [],
   "source": [
    "def boxplot(df,col):\n",
    "    \"\"\"\n",
    "    This function plot boxplot of certain feature in each class of target variable\n",
    "    - df: dataframe\n",
    "    - col: feature column\n",
    "    \"\"\"\n",
    "    data_to_plot = [df[df['CASE_STATUS']=='CERTIFIED'][col],df[df['CASE_STATUS']=='DENIED'][col]]\n",
    "    # Create a figure instance\n",
    "    fig = plt.figure(figsize=(9, 6))\n",
    "    # Create an axes instance\n",
    "    ax = fig.add_subplot(111)\n",
    "    # Create the boxplot\n",
    "    ax.boxplot(data_to_plot)\n",
    "    ax.set_xticklabels(['certified','denied'],fontsize=14)\n",
    "    plt.ylabel(col,fontsize=14)\n",
    "    plt.show()"
   ]
  },
  {
   "cell_type": "code",
   "execution_count": 386,
   "metadata": {},
   "outputs": [
    {
     "data": {
      "image/png": "[encoded data removed]",
      "text/plain": [
       "<matplotlib.figure.Figure at 0x6f8f25c0>"
      ]
     },
     "metadata": {},
     "output_type": "display_data"
    }
   ],
   "source": [
    "boxplot(df,'PREVAILING_WAGE')"
   ]
  },
  {
   "cell_type": "code",
   "execution_count": 387,
   "metadata": {
    "collapsed": true
   },
   "outputs": [],
   "source": [
    "df['EMPLOYER_NAME'] = df['EMPLOYER_NAME'].str.lower()\n",
    "df['SOC_NAME'] = df['SOC_NAME'].str.lower()\n",
    "df['JOB_TITLE'] = df['JOB_TITLE'].str.lower()\n",
    "df['WORKSITE'] = df['WORKSITE'].str.lower()"
   ]
  },
  {
   "cell_type": "code",
   "execution_count": 388,
   "metadata": {},
   "outputs": [
    {
     "data": {
      "text/plain": [
       "software developers, applications                     162018\n",
       "computer systems analysts                             159803\n",
       "computer programmers                                  130823\n",
       "computer occupations, all other                        81738\n",
       "software developers, systems software                  28936\n",
       "management analysts                                    22088\n",
       "accountants and auditors                               17522\n",
       "computer systems analyst                               17071\n",
       "network and computer systems administrators            16416\n",
       "financial analysts                                     13617\n",
       "mechanical engineers                                   13260\n",
       "database administrators                                12499\n",
       "market research analysts and marketing specialists     11970\n",
       "operations research analysts                           11116\n",
       "electronics engineers, except computer                  9523\n",
       "electrical engineers                                    8589\n",
       "computer and information systems managers               8134\n",
       "web developers                                          7661\n",
       "physicians and surgeons, all other                      7617\n",
       "statisticians                                           5765\n",
       "medical scientists, except epidemiologists              5324\n",
       "industrial engineers                                    4801\n",
       "physical therapists                                     4603\n",
       "civil engineers                                         4596\n",
       "engineers, all other                                    4227\n",
       "biochemists and biophysicists                           3949\n",
       "software quality assurance engineers and testers        3854\n",
       "biological scientists, all other                        3838\n",
       "marketing managers                                      3804\n",
       "graphic designers                                       3312\n",
       "                                                       ...  \n",
       "computer hardware engineers, non r&d                       1\n",
       "customer service representative                            1\n",
       "comuter occupations, all other                             1\n",
       "life, physical, and social science technicians, al         1\n",
       "credit authorizers, checkers, and clerks                   1\n",
       "medical technologists                                      1\n",
       "ophthalmic medical technicians                             1\n",
       "compuer systems analysts                                   1\n",
       "software qualify assurance engineers and testers           1\n",
       "computer systems anlysts                                   1\n",
       "food scientist and technologists                           1\n",
       "computer programmers, r&amp;d                              1\n",
       "securities commodities financial servs sales agent         1\n",
       "purchasing agents, except wholesale, retail,               1\n",
       "education, training, & library workers, all other          1\n",
       "medical and clinical laboratory technologist               1\n",
       "acupuncturists                                             1\n",
       "advertising and promortions managers                       1\n",
       "engineering technicians,except drafters, all other         1\n",
       "compensation,benefits,and job analysis specialists         1\n",
       "mathematical teachers, postsecondary                       1\n",
       "sales agents, securities and commodities                   1\n",
       "urologists                                                 1\n",
       "software quality assurance and test engineers              1\n",
       "natural science managers                                   1\n",
       "commerical and industrial designers                        1\n",
       "computer systems analys                                    1\n",
       "sales representatives, wholesale and manufact              1\n",
       "bioinformatics technicians                                 1\n",
       "computer specialists, all other                            1\n",
       "Name: SOC_NAME, Length: 1117, dtype: int64"
      ]
     },
     "execution_count": 388,
     "metadata": {},
     "output_type": "execute_result"
    }
   ],
   "source": [
    "df['SOC_NAME'].value_counts()"
   ]
  },
  {
   "cell_type": "code",
   "execution_count": 389,
   "metadata": {},
   "outputs": [
    {
     "name": "stderr",
     "output_type": "stream",
     "text": [
      "C:\\Users\\jhaas\\Anaconda2\\lib\\site-packages\\ipykernel_launcher.py:3: SettingWithCopyWarning: \n",
      "A value is trying to be set on a copy of a slice from a DataFrame\n",
      "\n",
      "See the caveats in the documentation: http://pandas.pydata.org/pandas-docs/stable/indexing.html#indexing-view-versus-copy\n",
      "  This is separate from the ipykernel package so we can avoid doing imports until\n",
      "C:\\Users\\jhaas\\Anaconda2\\lib\\site-packages\\ipykernel_launcher.py:4: SettingWithCopyWarning: \n",
      "A value is trying to be set on a copy of a slice from a DataFrame\n",
      "\n",
      "See the caveats in the documentation: http://pandas.pydata.org/pandas-docs/stable/indexing.html#indexing-view-versus-copy\n",
      "  after removing the cwd from sys.path.\n",
      "C:\\Users\\jhaas\\Anaconda2\\lib\\site-packages\\ipykernel_launcher.py:5: SettingWithCopyWarning: \n",
      "A value is trying to be set on a copy of a slice from a DataFrame\n",
      "\n",
      "See the caveats in the documentation: http://pandas.pydata.org/pandas-docs/stable/indexing.html#indexing-view-versus-copy\n",
      "  \"\"\"\n",
      "C:\\Users\\jhaas\\Anaconda2\\lib\\site-packages\\ipykernel_launcher.py:6: SettingWithCopyWarning: \n",
      "A value is trying to be set on a copy of a slice from a DataFrame\n",
      "\n",
      "See the caveats in the documentation: http://pandas.pydata.org/pandas-docs/stable/indexing.html#indexing-view-versus-copy\n",
      "  \n",
      "C:\\Users\\jhaas\\Anaconda2\\lib\\site-packages\\ipykernel_launcher.py:7: SettingWithCopyWarning: \n",
      "A value is trying to be set on a copy of a slice from a DataFrame\n",
      "\n",
      "See the caveats in the documentation: http://pandas.pydata.org/pandas-docs/stable/indexing.html#indexing-view-versus-copy\n",
      "  import sys\n",
      "C:\\Users\\jhaas\\Anaconda2\\lib\\site-packages\\ipykernel_launcher.py:8: SettingWithCopyWarning: \n",
      "A value is trying to be set on a copy of a slice from a DataFrame\n",
      "\n",
      "See the caveats in the documentation: http://pandas.pydata.org/pandas-docs/stable/indexing.html#indexing-view-versus-copy\n",
      "  \n",
      "C:\\Users\\jhaas\\Anaconda2\\lib\\site-packages\\ipykernel_launcher.py:9: SettingWithCopyWarning: \n",
      "A value is trying to be set on a copy of a slice from a DataFrame\n",
      "\n",
      "See the caveats in the documentation: http://pandas.pydata.org/pandas-docs/stable/indexing.html#indexing-view-versus-copy\n",
      "  if __name__ == '__main__':\n",
      "C:\\Users\\jhaas\\Anaconda2\\lib\\site-packages\\ipykernel_launcher.py:10: SettingWithCopyWarning: \n",
      "A value is trying to be set on a copy of a slice from a DataFrame\n",
      "\n",
      "See the caveats in the documentation: http://pandas.pydata.org/pandas-docs/stable/indexing.html#indexing-view-versus-copy\n",
      "  # Remove the CWD from sys.path while we load stuff.\n",
      "C:\\Users\\jhaas\\Anaconda2\\lib\\site-packages\\ipykernel_launcher.py:11: SettingWithCopyWarning: \n",
      "A value is trying to be set on a copy of a slice from a DataFrame\n",
      "\n",
      "See the caveats in the documentation: http://pandas.pydata.org/pandas-docs/stable/indexing.html#indexing-view-versus-copy\n",
      "  # This is added back by InteractiveShellApp.init_path()\n",
      "C:\\Users\\jhaas\\Anaconda2\\lib\\site-packages\\ipykernel_launcher.py:12: SettingWithCopyWarning: \n",
      "A value is trying to be set on a copy of a slice from a DataFrame\n",
      "\n",
      "See the caveats in the documentation: http://pandas.pydata.org/pandas-docs/stable/indexing.html#indexing-view-versus-copy\n",
      "  if sys.path[0] == '':\n",
      "C:\\Users\\jhaas\\Anaconda2\\lib\\site-packages\\ipykernel_launcher.py:13: SettingWithCopyWarning: \n",
      "A value is trying to be set on a copy of a slice from a DataFrame\n",
      "\n",
      "See the caveats in the documentation: http://pandas.pydata.org/pandas-docs/stable/indexing.html#indexing-view-versus-copy\n",
      "  del sys.path[0]\n",
      "C:\\Users\\jhaas\\Anaconda2\\lib\\site-packages\\ipykernel_launcher.py:14: SettingWithCopyWarning: \n",
      "A value is trying to be set on a copy of a slice from a DataFrame\n",
      "\n",
      "See the caveats in the documentation: http://pandas.pydata.org/pandas-docs/stable/indexing.html#indexing-view-versus-copy\n",
      "  \n",
      "C:\\Users\\jhaas\\Anaconda2\\lib\\site-packages\\ipykernel_launcher.py:15: SettingWithCopyWarning: \n",
      "A value is trying to be set on a copy of a slice from a DataFrame\n",
      "\n",
      "See the caveats in the documentation: http://pandas.pydata.org/pandas-docs/stable/indexing.html#indexing-view-versus-copy\n",
      "  from ipykernel import kernelapp as app\n",
      "C:\\Users\\jhaas\\Anaconda2\\lib\\site-packages\\ipykernel_launcher.py:16: SettingWithCopyWarning: \n",
      "A value is trying to be set on a copy of a slice from a DataFrame\n",
      "\n",
      "See the caveats in the documentation: http://pandas.pydata.org/pandas-docs/stable/indexing.html#indexing-view-versus-copy\n",
      "  app.launch_new_instance()\n",
      "C:\\Users\\jhaas\\Anaconda2\\lib\\site-packages\\ipykernel_launcher.py:17: SettingWithCopyWarning: \n",
      "A value is trying to be set on a copy of a slice from a DataFrame\n",
      "\n",
      "See the caveats in the documentation: http://pandas.pydata.org/pandas-docs/stable/indexing.html#indexing-view-versus-copy\n"
     ]
    }
   ],
   "source": [
    "import sys\n",
    "df['SOC_NAME1'] = 'others'\n",
    "df['SOC_NAME1'][df['SOC_NAME'].str.contains('computer','software')] = 'it'\n",
    "df['SOC_NAME1'][df['SOC_NAME'].str.contains('chief','management')] = 'manager'\n",
    "df['SOC_NAME1'][df['SOC_NAME'].str.contains('mechanical')] = 'mechanical'\n",
    "df['SOC_NAME1'][df['SOC_NAME'].str.contains('database')] = 'database'\n",
    "df['SOC_NAME1'][df['SOC_NAME'].str.contains('sales','market')] = 'scm'\n",
    "df['SOC_NAME1'][df['SOC_NAME'].str.contains('financial')] = 'finance'\n",
    "df['SOC_NAME1'][df['SOC_NAME'].str.contains('public','fundraising')] = 'pr'\n",
    "df['SOC_NAME1'][df['SOC_NAME'].str.contains('education','law')] = 'administrative'\n",
    "df['SOC_NAME1'][df['SOC_NAME'].str.contains('auditors','compliance')] = 'audit'\n",
    "df['SOC_NAME1'][df['SOC_NAME'].str.contains('distribution','logistics')] = 'scm'\n",
    "df['SOC_NAME1'][df['SOC_NAME'].str.contains('recruiters','human')] = 'hr'\n",
    "df['SOC_NAME1'][df['SOC_NAME'].str.contains('agricultural','farm')] = 'agri'\n",
    "df['SOC_NAME1'][df['SOC_NAME'].str.contains('construction','architectural')] = 'estate'\n",
    "df['SOC_NAME1'][df['SOC_NAME'].str.contains('forencsic','health')] = 'medical'\n",
    "df['SOC_NAME1'][df['SOC_NAME'].str.contains('teachers')] = 'education'\n",
    "\n"
   ]
  },
  {
   "cell_type": "code",
   "execution_count": 390,
   "metadata": {},
   "outputs": [
    {
     "name": "stdout",
     "output_type": "stream",
     "text": [
      "SOC_NAME1    administrative  agri  audit  database  education  estate  \\\n",
      "CASE_STATUS                                                             \n",
      "CERTIFIED              1186   566  17004     12381      16736     800   \n",
      "DENIED                   78    39    531       168        572      81   \n",
      "All                    1264   605  17535     12549      17308     881   \n",
      "\n",
      "SOC_NAME1    finance  hr      it  manager  mechanical  others    pr   scm  \\\n",
      "CASE_STATUS                                                                 \n",
      "CERTIFIED      18872   1  433468      728       13526  391037  2034  5912   \n",
      "DENIED           459   0    4150       74         288    8862   122   246   \n",
      "All            19331   1  437618      802       13814  399899  2156  6158   \n",
      "\n",
      "SOC_NAME1       All  \n",
      "CASE_STATUS          \n",
      "CERTIFIED    914251  \n",
      "DENIED        15670  \n",
      "All          929921  \n",
      "******PERCENTAGE*******\n",
      "SOC_NAME1    administrative      agri     audit  database  education  \\\n",
      "CASE_STATUS                                                            \n",
      "CERTIFIED          0.938291  0.935537  0.969718  0.986612   0.966952   \n",
      "DENIED             0.061709  0.064463  0.030282  0.013388   0.033048   \n",
      "All                1.000000  1.000000  1.000000  1.000000   1.000000   \n",
      "\n",
      "SOC_NAME1      estate   finance   hr        it   manager  mechanical  \\\n",
      "CASE_STATUS                                                            \n",
      "CERTIFIED    0.908059  0.976256  1.0  0.990517  0.907731    0.979152   \n",
      "DENIED       0.091941  0.023744  0.0  0.009483  0.092269    0.020848   \n",
      "All          1.000000  1.000000  1.0  1.000000  1.000000    1.000000   \n",
      "\n",
      "SOC_NAME1      others        pr       scm       All  \n",
      "CASE_STATUS                                          \n",
      "CERTIFIED    0.977839  0.943414  0.960052  0.983149  \n",
      "DENIED       0.022161  0.056586  0.039948  0.016851  \n",
      "All          1.000000  1.000000  1.000000  1.000000  \n"
     ]
    }
   ],
   "source": [
    "s=pd.crosstab(df.CASE_STATUS, df.SOC_NAME1,margins=True)\n",
    "print s\n",
    "s=s/s.loc['All']\n",
    "print('******PERCENTAGE*******')\n",
    "print(s)"
   ]
  },
  {
   "cell_type": "code",
   "execution_count": 391,
   "metadata": {},
   "outputs": [
    {
     "data": {
      "text/plain": [
       "it                437618\n",
       "others            399899\n",
       "finance            19331\n",
       "audit              17535\n",
       "education          17308\n",
       "mechanical         13814\n",
       "database           12549\n",
       "scm                 6158\n",
       "pr                  2156\n",
       "administrative      1264\n",
       "estate               881\n",
       "manager              802\n",
       "agri                 605\n",
       "hr                     1\n",
       "Name: SOC_NAME1, dtype: int64"
      ]
     },
     "execution_count": 391,
     "metadata": {},
     "output_type": "execute_result"
    }
   ],
   "source": [
    "df['SOC_NAME1'].value_counts()"
   ]
  },
  {
   "cell_type": "code",
   "execution_count": 392,
   "metadata": {},
   "outputs": [],
   "source": [
    "from sklearn import preprocessing\n",
    "le = preprocessing.LabelEncoder()\n",
    "le.fit(df.SOC_NAME1)\n",
    "# print list(le.classes_)\n",
    "df['SOC_N']=le.transform(df['SOC_NAME1'])"
   ]
  },
  {
   "cell_type": "code",
   "execution_count": null,
   "metadata": {},
   "outputs": [],
   "source": []
  },
  {
   "cell_type": "code",
   "execution_count": 393,
   "metadata": {},
   "outputs": [],
   "source": [
    "# from sklearn import preprocessing\n",
    "# class_mapping = {'computer':0, np.nan:0}\n",
    "# df[\"SOC_NAME1\"] = df[\"SOC_NAME1\"].map(class_mapping)\n",
    "\n",
    "## Splitting city and state and capturing state in another variable\n",
    "df['state'] = df.WORKSITE.str.split('\\s+').str[-1]"
   ]
  },
  {
   "cell_type": "code",
   "execution_count": 394,
   "metadata": {},
   "outputs": [],
   "source": [
    "\n",
    "le = preprocessing.LabelEncoder()\n",
    "le.fit(df.state)\n",
    "# print list(le.classes_)\n",
    "df['state1']=le.transform(df['state'])\n",
    "# print(df.state1)"
   ]
  },
  {
   "cell_type": "code",
   "execution_count": 395,
   "metadata": {
    "collapsed": true
   },
   "outputs": [],
   "source": [
    "# dropping these columns\n",
    "df = df.drop('EMPLOYER_NAME', axis = 1)\n",
    "df = df.drop('SOC_NAME', axis = 1)\n",
    "df = df.drop('SOC_NAME1', axis = 1)\n",
    "df = df.drop('JOB_TITLE', axis = 1)\n",
    "df = df.drop('WORKSITE', axis = 1)\n",
    "df = df.drop('CASE_ID', axis = 1)\n",
    "df = df.drop('state' , axis=1)"
   ]
  },
  {
   "cell_type": "code",
   "execution_count": 396,
   "metadata": {},
   "outputs": [
    {
     "name": "stdout",
     "output_type": "stream",
     "text": [
      "CASE_STATUS           0\n",
      "FULL_TIME_POSITION    0\n",
      "PREVAILING_WAGE       0\n",
      "YEAR                  0\n",
      "SOC_N                 0\n",
      "state1                0\n",
      "dtype: int64\n"
     ]
    }
   ],
   "source": [
    "##check count of NAN\n",
    "count_nan = len(df) - df.count()\n",
    "print(count_nan)"
   ]
  },
  {
   "cell_type": "code",
   "execution_count": 397,
   "metadata": {},
   "outputs": [
    {
     "name": "stdout",
     "output_type": "stream",
     "text": [
      "['CERTIFIED', 'DENIED']\n"
     ]
    }
   ],
   "source": [
    "from sklearn import preprocessing\n",
    "le = preprocessing.LabelEncoder()\n",
    "le.fit(df.CASE_STATUS)\n",
    "print list(le.classes_)\n",
    "y=le.transform(df['CASE_STATUS'])"
   ]
  },
  {
   "cell_type": "code",
   "execution_count": 398,
   "metadata": {},
   "outputs": [
    {
     "data": {
      "text/plain": [
       "Index([u'FULL_TIME_POSITION', u'PREVAILING_WAGE', u'YEAR', u'SOC_N',\n",
       "       u'state1'],\n",
       "      dtype='object')"
      ]
     },
     "execution_count": 398,
     "metadata": {},
     "output_type": "execute_result"
    }
   ],
   "source": [
    "X = df.drop('CASE_STATUS', axis=1)\n",
    "# y = df.CASE_STATUS\n",
    "\n",
    "seed = 7\n",
    "test_size = 0.40\n",
    "X_train, X_test, y_train, y_test = train_test_split(X, y, test_size=test_size, random_state=seed)\n",
    "X_train.columns"
   ]
  },
  {
   "cell_type": "code",
   "execution_count": 399,
   "metadata": {},
   "outputs": [
    {
     "name": "stdout",
     "output_type": "stream",
     "text": [
      "FULL_TIME_POSITION    0\n",
      "PREVAILING_WAGE       0\n",
      "YEAR                  0\n",
      "SOC_N                 0\n",
      "state1                0\n",
      "dtype: int64\n"
     ]
    }
   ],
   "source": [
    "print(X_train.isnull().sum())"
   ]
  },
  {
   "cell_type": "code",
   "execution_count": 400,
   "metadata": {},
   "outputs": [],
   "source": [
    "from sklearn.preprocessing import OneHotEncoder\n",
    "X_train_encode = pd.get_dummies(X_train)\n",
    "X_test_encode = pd.get_dummies(X_test)\n"
   ]
  },
  {
   "cell_type": "code",
   "execution_count": 402,
   "metadata": {},
   "outputs": [
    {
     "name": "stdout",
     "output_type": "stream",
     "text": [
      "==================Logistic Regression Model============================================\n"
     ]
    }
   ],
   "source": [
    "from sklearn.linear_model import LogisticRegression\n",
    "from sklearn import metrics\n",
    "## Logistic Regression\n",
    "print \"==================Logistic Regression Model============================================\"\n",
    "LogReg = LogisticRegression()\n",
    "LogReg.fit(X_train_encode, y_train)\n",
    "y_pred = LogReg.predict(X_test_encode)"
   ]
  },
  {
   "cell_type": "code",
   "execution_count": 403,
   "metadata": {},
   "outputs": [
    {
     "data": {
      "text/plain": [
       "array([[365609,      2],\n",
       "       [  6319,     39]], dtype=int64)"
      ]
     },
     "execution_count": 403,
     "metadata": {},
     "output_type": "execute_result"
    }
   ],
   "source": [
    "from sklearn.metrics import confusion_matrix\n",
    "confusion_matrix = confusion_matrix(y_test, y_pred)\n",
    "confusion_matrix"
   ]
  },
  {
   "cell_type": "code",
   "execution_count": 404,
   "metadata": {},
   "outputs": [
    {
     "name": "stdout",
     "output_type": "stream",
     "text": [
      "             precision    recall  f1-score   support\n",
      "\n",
      "          0       0.98      1.00      0.99    365611\n",
      "          1       0.95      0.01      0.01      6358\n",
      "\n",
      "avg / total       0.98      0.98      0.97    371969\n",
      "\n"
     ]
    }
   ],
   "source": [
    "print(classification_report(y_test, y_pred))"
   ]
  },
  {
   "cell_type": "code",
   "execution_count": 405,
   "metadata": {},
   "outputs": [
    {
     "name": "stdout",
     "output_type": "stream",
     "text": [
      "0.5030642670544848\n"
     ]
    }
   ],
   "source": [
    "print roc_auc_score(y_test, y_pred)"
   ]
  },
  {
   "cell_type": "code",
   "execution_count": 412,
   "metadata": {},
   "outputs": [
    {
     "name": "stdout",
     "output_type": "stream",
     "text": [
      "0.5317993501256928\n"
     ]
    },
    {
     "data": {
      "image/png": "[encoded data removed]",
      "text/plain": [
       "<matplotlib.figure.Figure at 0x73290588>"
      ]
     },
     "metadata": {},
     "output_type": "display_data"
    }
   ],
   "source": [
    "# from sklearn.tree import DecisionTreeClassifier\n",
    "from sklearn import tree\n",
    "from sklearn.metrics import roc_curve, roc_auc_score\n",
    "from matplotlib import pyplot as plt\n",
    "\n",
    "model = tree.DecisionTreeClassifier()\n",
    "model.fit(X_train_encode, y_train)\n",
    "predictions = model.predict_proba(X_test_encode)\n",
    "y_pred = model.predict(X_test_encode) \n",
    "print roc_auc_score(y_test, predictions[:,1])\n",
    "\n",
    "fpr, tpr, _ = roc_curve(y_test, predictions[:,1])\n",
    "\n",
    "plt.clf()\n",
    "plt.plot(fpr, tpr)\n",
    "plt.xlabel('FPR')\n",
    "plt.ylabel('TPR')\n",
    "plt.title('ROC curve')\n",
    "plt.show()"
   ]
  },
  {
   "cell_type": "code",
   "execution_count": 413,
   "metadata": {},
   "outputs": [
    {
     "name": "stdout",
     "output_type": "stream",
     "text": [
      "             precision    recall  f1-score   support\n",
      "\n",
      "          0       0.98      1.00      0.99    365611\n",
      "          1       0.19      0.07      0.10      6358\n",
      "\n",
      "avg / total       0.97      0.98      0.97    371969\n",
      "\n"
     ]
    }
   ],
   "source": [
    "print(classification_report(y_test, y_pred))"
   ]
  },
  {
   "cell_type": "code",
   "execution_count": 428,
   "metadata": {},
   "outputs": [
    {
     "data": {
      "text/plain": [
       "array([0, 0, 0, ..., 0, 0, 1], dtype=int64)"
      ]
     },
     "execution_count": 428,
     "metadata": {},
     "output_type": "execute_result"
    }
   ],
   "source": [
    "y_pred\n",
    "y_test"
   ]
  },
  {
   "cell_type": "code",
   "execution_count": 415,
   "metadata": {},
   "outputs": [
    {
     "data": {
      "text/plain": [
       "array([[363783,   1828],\n",
       "       [  5935,    423]], dtype=int64)"
      ]
     },
     "execution_count": 415,
     "metadata": {},
     "output_type": "execute_result"
    }
   ],
   "source": [
    "from sklearn.metrics import confusion_matrix\n",
    "confusion_matrix = confusion_matrix(y_test, y_pred)\n",
    "confusion_matrix"
   ]
  },
  {
   "cell_type": "code",
   "execution_count": 437,
   "metadata": {},
   "outputs": [],
   "source": [
    "# Import the model we are using\n",
    "from sklearn.ensemble import RandomForestRegressor\n",
    "# Instantiate model with 1000 decision trees\n",
    "rf = RandomForestRegressor(n_estimators = 1000, random_state = 42)\n",
    "# Train the model on training data\n",
    "rf.fit(X_train_encode, y_train);"
   ]
  },
  {
   "cell_type": "code",
   "execution_count": 438,
   "metadata": {},
   "outputs": [
    {
     "name": "stdout",
     "output_type": "stream",
     "text": [
      "('Mean Absolute Error:', 0.03, 'degrees.')\n"
     ]
    }
   ],
   "source": [
    "# Use the forest's predict method on the test data\n",
    "y_pred = rf.predict(X_test_encode)\n",
    "# Calculate the absolute errors\n",
    "errors = abs(y_pred - y_test)\n",
    "# Print out the mean absolute error (mae)\n",
    "print('Mean Absolute Error:', round(np.mean(errors), 2), 'degrees.')"
   ]
  },
  {
   "cell_type": "code",
   "execution_count": 439,
   "metadata": {},
   "outputs": [
    {
     "name": "stdout",
     "output_type": "stream",
     "text": [
      "0.6193804187372077\n"
     ]
    },
    {
     "data": {
      "image/png": "[encoded data removed]",
      "text/plain": [
       "<matplotlib.figure.Figure at 0x71341ef0>"
      ]
     },
     "metadata": {},
     "output_type": "display_data"
    }
   ],
   "source": [
    "print roc_auc_score(y_test, y_pred)\n",
    "fpr, tpr, _ = roc_curve(y_test, y_pred)\n",
    "\n",
    "plt.clf()\n",
    "plt.plot(fpr, tpr)\n",
    "plt.xlabel('FPR')\n",
    "plt.ylabel('TPR')\n",
    "plt.title('ROC curve')\n",
    "plt.show()\n"
   ]
  },
  {
   "cell_type": "code",
   "execution_count": 440,
   "metadata": {},
   "outputs": [
    {
     "data": {
      "text/plain": [
       "array([[364429,   1182],\n",
       "       [  5966,    392]], dtype=int64)"
      ]
     },
     "execution_count": 440,
     "metadata": {},
     "output_type": "execute_result"
    }
   ],
   "source": [
    "from sklearn.metrics import confusion_matrix\n",
    "confusion_matrix = confusion_matrix(y_test, y_pred.round())\n",
    "confusion_matrix"
   ]
  },
  {
   "cell_type": "code",
   "execution_count": 441,
   "metadata": {},
   "outputs": [
    {
     "name": "stdout",
     "output_type": "stream",
     "text": [
      "             precision    recall  f1-score   support\n",
      "\n",
      "          0       0.98      1.00      0.99    365611\n",
      "          1       0.25      0.06      0.10      6358\n",
      "\n",
      "avg / total       0.97      0.98      0.98    371969\n",
      "\n"
     ]
    }
   ],
   "source": [
    "print(classification_report(y_test, y_pred.round()))"
   ]
  },
  {
   "cell_type": "code",
   "execution_count": 443,
   "metadata": {
    "collapsed": true
   },
   "outputs": [],
   "source": [
    "import pickle\n",
    "\n",
    "\"\"\"Saving the Model\"\"\"\n",
    "Random_forest_h1b = 'Random_forest_h1b.sav'\n",
    "pickle.dump(rf, open(Random_forest_h1b, 'wb'))"
   ]
  },
  {
   "cell_type": "code",
   "execution_count": null,
   "metadata": {
    "collapsed": true
   },
   "outputs": [],
   "source": []
  }
 ],
 "metadata": {
  "kernelspec": {
   "display_name": "Python 3",
   "language": "python",
   "name": "python3"
  },
  "language_info": {
   "codemirror_mode": {
    "name": "ipython",
    "version": 3
   },
   "file_extension": ".py",
   "mimetype": "text/x-python",
   "name": "python",
   "nbconvert_exporter": "python",
   "pygments_lexer": "ipython3",
   "version": "3.6.4"
  }
 },
 "nbformat": 4,
 "nbformat_minor": 2
}
